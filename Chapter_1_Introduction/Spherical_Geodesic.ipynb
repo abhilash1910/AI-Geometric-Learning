{
  "nbformat": 4,
  "nbformat_minor": 0,
  "metadata": {
    "colab": {
      "name": "Spherical_Geodesic",
      "provenance": [],
      "authorship_tag": "ABX9TyNSSRQR1YGxVuCGZQFdFZUK",
      "include_colab_link": true
    },
    "kernelspec": {
      "name": "python3",
      "display_name": "Python 3"
    },
    "language_info": {
      "name": "python"
    }
  },
  "cells": [
    {
      "cell_type": "markdown",
      "metadata": {
        "id": "view-in-github",
        "colab_type": "text"
      },
      "source": [
        "<a href=\"https://colab.research.google.com/github/abhilash1910/AI-Geometric-Learning/blob/master/Spherical_Geodesic.ipynb\" target=\"_parent\"><img src=\"https://colab.research.google.com/assets/colab-badge.svg\" alt=\"Open In Colab\"/></a>"
      ]
    },
    {
      "cell_type": "markdown",
      "metadata": {
        "id": "anAE_ZeauF-p"
      },
      "source": [
        "## Geodesics on Spherical Metric Tensor\n",
        "\n",
        "In this example, we will be looking at how to solve the geodesic equation for a spherical manifold. \n",
        "<img src=\"http://einsteinrelativelyeasy.com/images/generalrelativity/SphericalCoordinates1.png\">\n",
        "\n",
        "\n",
        "The spherical metric is denoted as :\n",
        "$$ds^2 = R^2 d\\theta^{2} + R^2 \\sin^2 \\theta d\\phi^{2}.$$\n",
        "\n",
        "In polar coordinates,for the Christoffel symbol $\\Gamma^{\\theta}_{\\phi \\phi}$  on a sphere of $R$ radius, , $\\Gamma^{\\theta}_{\\phi \\phi}$ is independent of $\\phi$ and $R$. Considering the geodesic equation: $$\\nabla_{\\lambda} T^{\\mu} = \\frac{dT^{\\mu}}{d \\lambda} + \\Gamma^{\\mu}_{\\kappa \\nu} T^{\\nu} \\frac{dx^{\\kappa}}{d \\lambda} \\ldotp$$ where christoffel symbols are symmetric $\\Gamma^{\\mu}_{\\kappa \\nu} = \\Gamma^{\\mu}_{\\nu \\kappa}$ and $\\lambda$ is an affine parameter, an iterative way to compute approximate geodesic distance is as follows:\n",
        "\n",
        "- Initializing  $\\lambda$ , the $x^{\\mu}$  and their derivatives  $dx^{\\mu}d\\lambda$ and  setting a small step-size  $\\Delta\\lambda$  by which to increment  $\\lambda$  at each step below.\n",
        "- For n from 0 to number of iterations\n",
        "  - do until the geodesic has been extended to the desired affine distance\n",
        "    - calculate  $d^{2}x^{\\mu}d\\lambda^{2}$  using the geodesic equation.\n",
        "    - Add  $(d^{2}x^{\\mu}d\\lambda^{2})\\Delta\\lambda$ to the currently stored value of $dx^{\\mu}d\\lambda$ .\n",
        "    - Add  $(dx^{\\mu}d\\lambda)\\Delta\\lambda$ to $x^{\\mu}$ .\n",
        "    - Add  $\\Delta\\lambda$  to  $\\lambda$ .\n",
        "\n",
        " \n",
        "For polar coordinates in a Euclidean plane, one can compute $\\Gamma^{r}_{\\phi \\phi}=-r$ and $\\Gamma^{\\phi}_{r \\phi} = \\frac{1}{r}$.\n",
        " A proof of the same is provided [here](https://mathworld.wolfram.com/SphericalCoordinates.html).\n"
      ]
    },
    {
      "cell_type": "code",
      "metadata": {
        "id": "x5RRGUH1vfl4",
        "colab": {
          "base_uri": "https://localhost:8080/",
          "height": 1000
        },
        "outputId": "d7abb88d-0b69-4711-d4f9-57c0f58d9c3e"
      },
      "source": [
        "import numpy as np\n",
        "import matplotlib.pyplot as plt\n",
        "\n",
        "def spherical_geodesic(iterations,lamda,del_lamda,r,phi,del_r,del_phi,li_phi,li_iter,li_lamda,li_r):\n",
        "  i=0\n",
        "  while(lamda<iterations):\n",
        "    \"\"\"Incrase the affine parameter\"\"\"\n",
        "    lamda+=del_lamda\n",
        "    \"\"\"Christoffel coefficients\"\"\"\n",
        "    chris_g_phiphi=-r\n",
        "    chris_g_phirphi=(1/r)\n",
        "    \"\"\"Compute the acceleration of r and phi\"\"\"\n",
        "    accl_r= -chris_g_phiphi*(del_phi**2)\n",
        "    accl_phi=-2*chris_g_phirphi*del_r*del_phi\n",
        "    \"\"\"Increment the velocity along the flow\"\"\"\n",
        "    del_r+=accl_r*del_lamda\n",
        "    del_phi+=accl_phi*del_lamda\n",
        "    r+=del_r*del_lamda\n",
        "    phi+=del_phi*del_lamda\n",
        "    li_phi.append(phi)\n",
        "    li_iter.append(i)\n",
        "    li_lamda.append(lamda)\n",
        "    li_r.append(r)\n",
        "    if i%100000==0:\n",
        "      deg=phi*180.0/np.pi\n",
        "      print(f\"Lambda values: {lamda} , Radius values: {r} ,Phi Values: {deg}\")\n",
        "    i+=1\n",
        "\n",
        "if __name__=='__main__':\n",
        "  iterations=1000\n",
        "  lamda=0\n",
        "  del_lamda=0.0001\n",
        "  r=1 \n",
        "  phi=0\n",
        "  del_r=0\n",
        "  del_phi=1\n",
        "  li_phi,li_iter,li_lamda,li_r=[],[],[],[]\n",
        "  spherical_geodesic(iterations,lamda,del_lamda,r,phi,del_r,del_phi,li_phi,li_iter,li_lamda,li_r)\n",
        "  plt.plot(li_phi,li_iter,label='Phi Rotation')\n",
        "  plt.legend()\n",
        "  plt.title('Phi Correlation with Iterations')\n",
        "  plt.show()\n",
        "  print(\"=========================\")\n",
        "  plt.plot(li_phi,li_lamda,label='Phi Rotation With Affine Parameter')\n",
        "  plt.legend()\n",
        "  plt.title('Phi Correlation with affine parameter')\n",
        "  plt.show()\n",
        "  print(\"=========================\")\n",
        "  plt.plot(li_phi,li_r,label='Phi Rotation With Radius')\n",
        "  plt.legend()\n",
        "  plt.title('Phi Correlation with radius')\n",
        "  plt.show()\n",
        "  print(\"=========================\")\n",
        "  "
      ],
      "execution_count": 4,
      "outputs": [
        {
          "output_type": "stream",
          "name": "stdout",
          "text": [
            "Lambda values: 0.0001 , Radius values: 1.00000001 ,Phi Values: 0.005729577951308233\n",
            "Lambda values: 10.000099999990033 , Radius values: 10.050648136911553 ,Phi Values: 84.28341584739329\n",
            "Lambda values: 20.00009999996673 , Radius values: 20.026354292251334 ,Phi Values: 87.13100835094106\n",
            "Lambda values: 30.000099999943423 , Radius values: 30.018623826320667 ,Phi Values: 88.08406669353016\n",
            "Lambda values: 40.000100000204334 , Radius values: 40.015050338441114 ,Phi Values: 88.56102665214073\n",
            "Lambda values: 50.0001000005363 , Radius values: 50.01314124036141 ,Phi Values: 88.84730254632403\n",
            "Lambda values: 60.000100000868265 , Radius values: 60.01206466632108 ,Phi Values: 89.0381859690504\n",
            "Lambda values: 70.00010000120022 , Radius values: 70.01146391702255 ,Phi Values: 89.17454457302267\n",
            "Lambda values: 80.00010000153219 , Radius values: 80.01116059354467 ,Phi Values: 89.2768197370358\n",
            "Lambda values: 90.00010000186415 , Radius values: 90.01105556896519 ,Phi Values: 89.35637030041148\n",
            "Lambda values: 100.00010000219612 , Radius values: 100.01108936074102 ,Phi Values: 89.42001254864218\n",
            "Lambda values: 110.00010000252809 , Radius values: 110.01122411353232 ,Phi Values: 89.47208454803807\n",
            "Lambda values: 120.00010000286005 , Radius values: 120.01143458911365 ,Phi Values: 89.5154785489154\n",
            "Lambda values: 130.00010000319202 , Radius values: 130.01170331417288 ,Phi Values: 89.55219698454201\n",
            "Lambda values: 140.00010000352398 , Radius values: 140.01201780739964 ,Phi Values: 89.58367022233674\n",
            "Lambda values: 150.00010000385595 , Radius values: 150.0123689156122 ,Phi Values: 89.61094723164989\n",
            "Lambda values: 160.0001000041879 , Radius values: 160.01274977380208 ,Phi Values: 89.63481475935858\n",
            "Lambda values: 170.00010000451988 , Radius values: 170.01315513217136 ,Phi Values: 89.65587444774147\n",
            "Lambda values: 180.00010000485184 , Radius values: 180.01358090749676 ,Phi Values: 89.67459424866064\n",
            "Lambda values: 190.0001000051838 , Radius values: 190.0140238761444 ,Phi Values: 89.69134360296772\n",
            "Lambda values: 200.00010000551578 , Radius values: 200.01448145918502 ,Phi Values: 89.70641806682274\n",
            "Lambda values: 210.00010000584774 , Radius values: 210.01495156889987 ,Phi Values: 89.72005690236355\n",
            "Lambda values: 220.0001000061797 , Radius values: 220.0154324971442 ,Phi Values: 89.73245587119278\n",
            "Lambda values: 230.00010000651167 , Radius values: 230.01592283283438 ,Phi Values: 89.74377669061619\n",
            "Lambda values: 240.00010000684364 , Radius values: 240.0164214000606 ,Phi Values: 89.75415412592103\n",
            "Lambda values: 250.0001000071756 , Radius values: 250.01692721105647 ,Phi Values: 89.76370138058238\n",
            "Lambda values: 260.00010000637064 , Radius values: 260.01743943001554 ,Phi Values: 89.77251424262532\n",
            "Lambda values: 270.00010000386044 , Radius values: 270.01795734495136 ,Phi Values: 89.7806743096172\n",
            "Lambda values: 280.00010000135023 , Radius values: 280.0184803455903 ,Phi Values: 89.78825152260323\n",
            "Lambda values: 290.00009999884 , Radius values: 290.01900790582977 ,Phi Values: 89.79530617579431\n",
            "Lambda values: 300.0000999963298 , Radius values: 300.0195395697162 ,Phi Values: 89.80189052433882\n",
            "Lambda values: 310.0000999938196 , Radius values: 310.0200749401286 ,Phi Values: 89.80805008090996\n",
            "Lambda values: 320.0000999913094 , Radius values: 320.0206136695798 ,Phi Values: 89.81382466919655\n",
            "Lambda values: 330.0000999887992 , Radius values: 330.02115545270806 ,Phi Values: 89.81924928585667\n",
            "Lambda values: 340.000099986289 , Radius values: 340.0217000200737 ,Phi Values: 89.8243548103582\n",
            "Lambda values: 350.0000999837788 , Radius values: 350.02224713302843 ,Phi Values: 89.82916859313748\n",
            "Lambda values: 360.0000999812686 , Radius values: 360.02279657944376 ,Phi Values: 89.83371494573984\n",
            "Lambda values: 370.0000999787584 , Radius values: 370.02334817012 ,Phi Values: 89.83801555146141\n",
            "Lambda values: 380.0000999762482 , Radius values: 380.0239017357743 ,Phi Values: 89.8420898111832\n",
            "Lambda values: 390.000099973738 , Radius values: 390.0244571244877 ,Phi Values: 89.84595513597323\n",
            "Lambda values: 400.00009997122777 , Radius values: 400.02501419953285 ,Phi Values: 89.84962719581031\n",
            "Lambda values: 410.00009996871756 , Radius values: 410.0255728375166 ,Phi Values: 89.85312013191218\n",
            "Lambda values: 420.00009996620736 , Radius values: 420.02613292680326 ,Phi Values: 89.8564467387308\n",
            "Lambda values: 430.00009996369715 , Radius values: 430.0266943661391 ,Phi Values: 89.85961862054299\n",
            "Lambda values: 440.00009996118695 , Radius values: 440.0272570634766 ,Phi Values: 89.86264632670347\n",
            "Lambda values: 450.00009995867674 , Radius values: 450.0278209349466 ,Phi Values: 89.86553946885192\n",
            "Lambda values: 460.00009995616654 , Radius values: 460.02838590398284 ,Phi Values: 89.8683068228501\n",
            "Lambda values: 470.00009995365633 , Radius values: 470.02895190052186 ,Phi Values: 89.87095641767343\n",
            "Lambda values: 480.0000999511461 , Radius values: 480.02951886034487 ,Phi Values: 89.87349561322478\n",
            "Lambda values: 490.0000999486359 , Radius values: 490.03008672447567 ,Phi Values: 89.87593116860332\n",
            "Lambda values: 500.0000999461257 , Radius values: 500.0306554386594 ,Phi Values: 89.87826930218321\n",
            "Lambda values: 510.0000999436155 , Radius values: 510.03122495289665 ,Phi Values: 89.88051574462729\n",
            "Lambda values: 520.0000999411053 , Radius values: 520.0317952210058 ,Phi Values: 89.88267578578119\n",
            "Lambda values: 530.0000999385951 , Radius values: 530.0323662003617 ,Phi Values: 89.88475431626014\n",
            "Lambda values: 540.0000999360849 , Radius values: 540.0329378514014 ,Phi Values: 89.8867558644112\n",
            "Lambda values: 550.0000999335747 , Radius values: 550.0335101375339 ,Phi Values: 89.88868462925099\n",
            "Lambda values: 560.0000999310645 , Radius values: 560.0340830246818 ,Phi Values: 89.89054450986893\n",
            "Lambda values: 570.0000999285543 , Radius values: 570.0346564812754 ,Phi Values: 89.8923391317377\n",
            "Lambda values: 580.0000999260441 , Radius values: 580.0352304777958 ,Phi Values: 89.8940718702874\n",
            "Lambda values: 590.0000999235339 , Radius values: 590.0358049868469 ,Phi Values: 89.89574587211854\n",
            "Lambda values: 600.0000999210237 , Radius values: 600.0363799827861 ,Phi Values: 89.89736407405606\n",
            "Lambda values: 610.0000999185135 , Radius values: 610.036955441642 ,Phi Values: 89.89892922034545\n",
            "Lambda values: 620.0000999160033 , Radius values: 620.0375313410198 ,Phi Values: 89.90044387818672\n",
            "Lambda values: 630.000099913493 , Radius values: 630.0381076599735 ,Phi Values: 89.90191045178265\n",
            "Lambda values: 640.0000999109828 , Radius values: 640.0386843788373 ,Phi Values: 89.90333119507476\n",
            "Lambda values: 650.0000999084726 , Radius values: 650.0392614791039 ,Phi Values: 89.90470822330381\n",
            "Lambda values: 660.0000999059624 , Radius values: 660.039838943487 ,Phi Values: 89.90604352350482\n",
            "Lambda values: 670.0000999034522 , Radius values: 670.0404167556537 ,Phi Values: 89.90733896409422\n",
            "Lambda values: 680.000099900942 , Radius values: 680.0409949002292 ,Phi Values: 89.90859630357957\n",
            "Lambda values: 690.0000998984318 , Radius values: 690.0415733628803 ,Phi Values: 89.90981719852606\n",
            "Lambda values: 700.0000998959216 , Radius values: 700.0421521298583 ,Phi Values: 89.9110032108358\n",
            "Lambda values: 710.0000998934114 , Radius values: 710.0427311883367 ,Phi Values: 89.91215581442019\n",
            "Lambda values: 720.0000998909012 , Radius values: 720.0433105261757 ,Phi Values: 89.91327640130619\n",
            "Lambda values: 730.000099888391 , Radius values: 730.043890131889 ,Phi Values: 89.91436628724311\n",
            "Lambda values: 740.0000998858808 , Radius values: 740.0444699946017 ,Phi Values: 89.91542671686224\n",
            "Lambda values: 750.0000998833706 , Radius values: 750.0450501041314 ,Phi Values: 89.91645886841333\n",
            "Lambda values: 760.0000998808604 , Radius values: 760.0456304506226 ,Phi Values: 89.91746385813256\n",
            "Lambda values: 770.0000998783502 , Radius values: 770.0462110248735 ,Phi Values: 89.91844274426943\n",
            "Lambda values: 780.00009987584 , Radius values: 780.0467918181134 ,Phi Values: 89.9193965308075\n",
            "Lambda values: 790.0000998733298 , Radius values: 790.0473728220785 ,Phi Values: 89.92032617089286\n",
            "Lambda values: 800.0000998708196 , Radius values: 800.047954028761 ,Phi Values: 89.92123257001613\n",
            "Lambda values: 810.0000998683093 , Radius values: 810.0485354308008 ,Phi Values: 89.92211658895148\n",
            "Lambda values: 820.0000998657991 , Radius values: 820.0491170208785 ,Phi Values: 89.92297904648638\n",
            "Lambda values: 830.0000998632889 , Radius values: 830.0496987924327 ,Phi Values: 89.92382072194299\n",
            "Lambda values: 840.0000998607787 , Radius values: 840.0502807387478 ,Phi Values: 89.9246423575394\n",
            "Lambda values: 850.0000998582685 , Radius values: 850.0508628537841 ,Phi Values: 89.9254446605625\n",
            "Lambda values: 860.0000998557583 , Radius values: 860.0514451316103 ,Phi Values: 89.92622830540327\n",
            "Lambda values: 870.0000998532481 , Radius values: 870.0520275665139 ,Phi Values: 89.92699393544643\n",
            "Lambda values: 880.0000998507379 , Radius values: 880.0526101533943 ,Phi Values: 89.92774216483106\n",
            "Lambda values: 890.0000998482277 , Radius values: 890.0531928869576 ,Phi Values: 89.9284735800962\n",
            "Lambda values: 900.0000998457175 , Radius values: 900.0537757622858 ,Phi Values: 89.92918874170986\n",
            "Lambda values: 910.0000998432073 , Radius values: 910.054358774786 ,Phi Values: 89.92988818550737\n",
            "Lambda values: 920.0000998406971 , Radius values: 920.0549419200637 ,Phi Values: 89.93057242402502\n",
            "Lambda values: 930.0000998381869 , Radius values: 930.0555251936447 ,Phi Values: 89.93124194775427\n",
            "Lambda values: 940.0000998356767 , Radius values: 940.0561085914958 ,Phi Values: 89.93189722631503\n",
            "Lambda values: 950.0000998331665 , Radius values: 950.0566921097392 ,Phi Values: 89.93253870955502\n",
            "Lambda values: 960.0000998306563 , Radius values: 960.0572757445633 ,Phi Values: 89.93316682857699\n",
            "Lambda values: 970.0000998281461 , Radius values: 970.0578594924681 ,Phi Values: 89.93378199670646\n",
            "Lambda values: 980.0000998256359 , Radius values: 980.0584433497651 ,Phi Values: 89.93438461039938\n",
            "Lambda values: 990.0000998231257 , Radius values: 990.0590273134652 ,Phi Values: 89.93497505009167\n",
            "Lambda values: 1000.0000998206154 , Radius values: 1000.0596113801001 ,Phi Values: 89.93555368100243\n"
          ]
        },
        {
          "output_type": "display_data",
          "data": {
            "image/png": "[encoded data removed]",
            "text/plain": [
              "<Figure size 432x288 with 1 Axes>"
            ]
          },
          "metadata": {
            "needs_background": "light"
          }
        },
        {
          "output_type": "stream",
          "name": "stdout",
          "text": [
            "=========================\n"
          ]
        },
        {
          "output_type": "display_data",
          "data": {
            "image/png": "[encoded data removed]",
            "text/plain": [
              "<Figure size 432x288 with 1 Axes>"
            ]
          },
          "metadata": {
            "needs_background": "light"
          }
        },
        {
          "output_type": "stream",
          "name": "stdout",
          "text": [
            "=========================\n"
          ]
        },
        {
          "output_type": "display_data",
          "data": {
            "image/png": "[encoded data removed]",
            "text/plain": [
              "<Figure size 432x288 with 1 Axes>"
            ]
          },
          "metadata": {
            "needs_background": "light"
          }
        },
        {
          "output_type": "stream",
          "name": "stdout",
          "text": [
            "=========================\n"
          ]
        }
      ]
    }
  ]
}